{
 "cells": [
  {
   "cell_type": "markdown",
   "id": "75365806-2d04-4989-ae11-c1fe9d2687d2",
   "metadata": {},
   "source": [
    "###Q1. Which keyword is used to create a function? Create a function to return a list of odd numbers in the\n",
    "range of 1 to 25.\n",
    "Q2. Why *args and **kwargs is used in some functions? Create a function each for *args and **kwargs to\n",
    "demonstrate their use. \\n\n",
    "Q3. What is an iterator in python? Name the method used to initialise the iterator object and the method\n",
    "used for iteration. Use these methods to print the first five elements of the given list [2, 4, 6, 8, 10, 12, 14, 16,\n",
    "18, 20].\n",
    "Q4. What is a generator function in python? Why yield keyword is used? Give an example of a generator\n",
    "function.\n",
    "Q5. Create a generator function for prime numbers less than 1000. Use the next() method to print the\n",
    "first 20 prime numbers.###"
   ]
  },
  {
   "cell_type": "code",
   "execution_count": 1,
   "id": "d4f0d0dd-0d27-425c-81d3-8342f8a2d3c4",
   "metadata": {},
   "outputs": [],
   "source": [
    "#def is the keyword is used to create a function\n",
    "def testodd(n):\n",
    "    result=[]\n",
    "    for i in range(n):\n",
    "        if i%2==1:\n",
    "            result.append(i)\n",
    "    return result"
   ]
  },
  {
   "cell_type": "code",
   "execution_count": 2,
   "id": "e8afd49d-f979-4318-897d-a91dabef85be",
   "metadata": {},
   "outputs": [
    {
     "data": {
      "text/plain": [
       "[1, 3, 5, 7, 9, 11, 13, 15, 17, 19, 21, 23]"
      ]
     },
     "execution_count": 2,
     "metadata": {},
     "output_type": "execute_result"
    }
   ],
   "source": [
    "testodd(25)"
   ]
  },
  {
   "cell_type": "code",
   "execution_count": 3,
   "id": "0593ddc7-310c-4692-a5bf-bd7c41ffc705",
   "metadata": {},
   "outputs": [
    {
     "data": {
      "text/plain": [
       "[1, 3, 5, 7, 9, 11, 13, 15, 17, 19, 21, 23, 25, 27, 29, 31, 33]"
      ]
     },
     "execution_count": 3,
     "metadata": {},
     "output_type": "execute_result"
    }
   ],
   "source": [
    "testodd(34)\n"
   ]
  },
  {
   "cell_type": "code",
   "execution_count": 5,
   "id": "b86ee33e-92a1-422a-bb13-b6b9e4b31c7d",
   "metadata": {},
   "outputs": [],
   "source": [
    "def func(*args):\n",
    "    return(args)"
   ]
  },
  {
   "cell_type": "code",
   "execution_count": 6,
   "id": "ed7c9bda-6f7c-49b9-b77c-7860eebfa7ac",
   "metadata": {},
   "outputs": [
    {
     "data": {
      "text/plain": [
       "(34, 33, 3.4, 'fdjs')"
      ]
     },
     "execution_count": 6,
     "metadata": {},
     "output_type": "execute_result"
    }
   ],
   "source": [
    "func(34,33,3.4,'fdjs')"
   ]
  },
  {
   "cell_type": "code",
   "execution_count": 13,
   "id": "883f3d70-99eb-4d87-b47c-faddfd17008f",
   "metadata": {},
   "outputs": [],
   "source": [
    "def kfc(**kwargs):\n",
    "    for key, value in kwargs.items():\n",
    "        print(f\"{key}: {value}\")\n"
   ]
  },
  {
   "cell_type": "code",
   "execution_count": 15,
   "id": "40474cef-e2ad-40d6-b2e7-b5c40a49a331",
   "metadata": {},
   "outputs": [
    {
     "name": "stdout",
     "output_type": "stream",
     "text": [
      "name: Joe\n",
      "age: 30\n"
     ]
    }
   ],
   "source": [
    "kfc(name=\"Joe\", age=30) "
   ]
  },
  {
   "cell_type": "code",
   "execution_count": 28,
   "id": "37bd4bba-cc0a-4b76-a822-debc51798903",
   "metadata": {},
   "outputs": [],
   "source": [
    "#q4. yield keyword is used in Python to create generator functions. A generator function is a special type of function that returns an iterable generator object. Instead of returning a single value, a generator function yields multiple values one by one, each time the function is called.###\n",
    "\n",
    "def fibo(n):\n",
    "    #l=[]\n",
    "    a,b=0,1\n",
    "    for i in range(n):       \n",
    "        yield a\n",
    "        a,b=b,a+b\n",
    "        "
   ]
  },
  {
   "cell_type": "code",
   "execution_count": 33,
   "id": "05d93903-b316-4dce-9560-390f03736c5f",
   "metadata": {},
   "outputs": [
    {
     "name": "stdout",
     "output_type": "stream",
     "text": [
      "0\n",
      "1\n",
      "1\n",
      "2\n",
      "3\n",
      "5\n",
      "8\n",
      "13\n",
      "21\n",
      "34\n"
     ]
    }
   ],
   "source": [
    "for i in fibo(10):\n",
    "   # fibo(i)\n",
    "    print(i)"
   ]
  },
  {
   "cell_type": "code",
   "execution_count": 34,
   "id": "c640a4b0-84c9-4926-b08f-6df60bd3cb01",
   "metadata": {},
   "outputs": [
    {
     "name": "stdout",
     "output_type": "stream",
     "text": [
      "2\n",
      "3\n",
      "5\n",
      "7\n",
      "11\n",
      "13\n",
      "17\n",
      "19\n",
      "23\n",
      "29\n",
      "31\n",
      "37\n",
      "41\n",
      "43\n",
      "47\n",
      "53\n",
      "59\n",
      "61\n",
      "67\n",
      "71\n"
     ]
    }
   ],
   "source": [
    "#In Python, the next function is used to get the next value from an iterator. An iterator is an object that implements the __next__ method, which returns the next value each time .\n",
    "def prime_numbers():\n",
    "    primes = []\n",
    "    for num in range(2, 1000):\n",
    "        for prime in primes:\n",
    "            if num % prime == 0:\n",
    "                break\n",
    "        else:\n",
    "            primes.append(num)\n",
    "            yield num\n",
    "\n",
    "prime_gen = prime_numbers()\n",
    "for i in range(20):\n",
    "    print(next(prime_gen))\n"
   ]
  },
  {
   "cell_type": "code",
   "execution_count": 49,
   "id": "53b5f00a-9403-4937-9df8-0bec0d2cde63",
   "metadata": {},
   "outputs": [
    {
     "name": "stdout",
     "output_type": "stream",
     "text": [
      "2\n",
      "3\n",
      "5\n",
      "7\n",
      "11\n",
      "13\n",
      "17\n",
      "19\n",
      "23\n",
      "29\n",
      "31\n",
      "37\n",
      "41\n",
      "43\n",
      "47\n",
      "53\n",
      "59\n",
      "61\n",
      "67\n",
      "71\n"
     ]
    }
   ],
   "source": [
    "def primenum():\n",
    "    primelist=[]\n",
    "    for i in range(2,1000):\n",
    "        for j in primelist:\n",
    "            if i%j==0:\n",
    "                break\n",
    "        else:\n",
    "            primelist.append(i)\n",
    "            yield i\n",
    "p=primenum()\n",
    "for i in range(20):\n",
    "    print(next(p))\n",
    "\n",
    "\n",
    "    "
   ]
  },
  {
   "cell_type": "code",
   "execution_count": null,
   "id": "6e143bea-f6c7-40f7-9322-c486c4001a8f",
   "metadata": {},
   "outputs": [],
   "source": []
  }
 ],
 "metadata": {
  "kernelspec": {
   "display_name": "Python 3 (ipykernel)",
   "language": "python",
   "name": "python3"
  },
  "language_info": {
   "codemirror_mode": {
    "name": "ipython",
    "version": 3
   },
   "file_extension": ".py",
   "mimetype": "text/x-python",
   "name": "python",
   "nbconvert_exporter": "python",
   "pygments_lexer": "ipython3",
   "version": "3.10.8"
  }
 },
 "nbformat": 4,
 "nbformat_minor": 5
}
