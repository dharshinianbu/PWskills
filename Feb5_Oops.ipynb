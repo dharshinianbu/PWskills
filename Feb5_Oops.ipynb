{
 "cells": [
  {
   "cell_type": "markdown",
   "id": "f8b9aedb-3bca-4f3d-baca-e378706905c7",
   "metadata": {},
   "source": [
    "Q1. Explain Class and Object with respect to Object-Oriented Programming. Give a suitable example.\n",
    "Q2. Name the four pillars of OOPs.\n",
    "Q3. Explain why the __init__() function is used. Give a suitable example.\n",
    "Q4. Why self is used in OOPs?\n",
    "Q5. What is inheritance? Give an example for each type of inheritance."
   ]
  },
  {
   "cell_type": "markdown",
   "id": "b43ec394-3289-4e6e-b66b-ca7d3a51c58f",
   "metadata": {},
   "source": [
    "1.Class:\n",
    "     Class is a logical entity and Class can only be declared once.\tA class can be defined as a template/blueprint that describes the behavior/state that the object of its type support.\t\n",
    "Object: \n",
    "    Object is a physical entity and Object can be created many times as per requirement. Objects have states and behaviors. Example: A dog has states - color, name, breed as well as behaviors – wagging the tail, barking, eating. An object is an instance of a class.  "
   ]
  },
  {
   "cell_type": "markdown",
   "id": "a212031c-886c-4177-90e2-1172ca1a6928",
   "metadata": {},
   "source": [
    "2. These four pillars are Inheritance, Polymorphism, Encapsulation and Abstraction."
   ]
  },
  {
   "cell_type": "markdown",
   "id": "8cb6b195-3003-4998-8b29-853531da656a",
   "metadata": {},
   "source": [
    "3. The built-in __init__() function. All classes have a function called __init__(), which is always executed when the class is being initiated. syntax: class class_name(): def __init__(self):"
   ]
  },
  {
   "cell_type": "markdown",
   "id": "69a42e27-8649-4f14-90af-ac060aba6f63",
   "metadata": {},
   "source": [
    "4. The self variable is used to represent the instance of the class which is often used in object-oriented programming. It works as a reference to the object. Python uses the self parameter to refer to instance attributes and methods of the class."
   ]
  },
  {
   "cell_type": "markdown",
   "id": "3043b2a2-9856-40e8-be08-6b9a9eaa2622",
   "metadata": {},
   "source": [
    "5. Inheritance is a mechanism in which one class acquires the property of another class. For example, a child inherits the traits of his/her parents. With inheritance, we can reuse the fields and methods of the existing class. Hence, inheritance facilitates Reusability and is an important concept of OOPs"
   ]
  }
 ],
 "metadata": {
  "kernelspec": {
   "display_name": "Python 3 (ipykernel)",
   "language": "python",
   "name": "python3"
  },
  "language_info": {
   "codemirror_mode": {
    "name": "ipython",
    "version": 3
   },
   "file_extension": ".py",
   "mimetype": "text/x-python",
   "name": "python",
   "nbconvert_exporter": "python",
   "pygments_lexer": "ipython3",
   "version": "3.10.8"
  }
 },
 "nbformat": 4,
 "nbformat_minor": 5
}
