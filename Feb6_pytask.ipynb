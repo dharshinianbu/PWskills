{
 "cells": [
  {
   "cell_type": "markdown",
   "id": "dac9a095-a2b3-49b1-80cf-42f60b699384",
   "metadata": {},
   "source": [
    "Q1. Create a function which will take a list as an argument and return the product of all the numbers\n",
    "after creating a flat list.\n",
    "Use the below-given list as an argument for your function.\n",
    "list1 = [1,2,3,4, [44,55,66, True], False, (34,56,78,89,34), {1,2,3,3,2,1}, {1:34, \"key2\": [55, 67, 78, 89], 4: (45,\n",
    "22, 61, 34)}, [56, 'data science'], 'Machine Learning']\n",
    "Note: you must extract numeric keys and values of the dictionary also.\n",
    "Q2. Write a python program for encrypting a message sent to you by your friend. The logic of encryption\n",
    "should be such that, for a the output should be z. For b, the output should be y. For c, the output should\n",
    "be x respectively. Also, the whitespace should be replaced with a dollar sign. Keep the punctuation\n",
    "marks unchanged.\n",
    "Input Sentence: I want to become a Data Scientist.\n",
    "Encrypt the above input sentence using the program you just created.\n",
    "Note: Convert the given input sentence into lowercase before encrypting. The final output should be\n",
    "lowercase."
   ]
  },
  {
   "cell_type": "code",
   "execution_count": 13,
   "id": "a6c00dda-4124-4894-8c85-6b5145000e11",
   "metadata": {},
   "outputs": [],
   "source": [
    "#q1\n",
    "lst= [1,2,3,4, [44,55,66, True], False, (34,56,78,89,34), {1,2,3,3,2,1}, {1:34, \"key2\": [55, 67, 78, 89], 4: (45,\n",
    "22, 61, 34)}, [56, 'data science'], 'Machine Learning']\n",
    "def multiply_lst(lst):\n",
    "    flat_lst=[]\n",
    "    for item in lst:\n",
    "        if type(item)==tuple or type(item)==list or type(item)==set:\n",
    "            flat_lst+=list(item)\n",
    "        elif type(item)==dict:\n",
    "            for key,values in item.items():                \n",
    "                if type(key)==int:\n",
    "                    flat_lst.append(key)\n",
    "                if type(values)==int:\n",
    "                    flat_lst.append(values)\n",
    "                if type(values)==list or type(values)==tuple or type(values)==set:\n",
    "                    flat_lst+=list(values)\n",
    "        elif type(item)==int:\n",
    "            flat_lst+=item\n",
    "    prod=1\n",
    "    for i in flat_lst:\n",
    "        prod*=i\n",
    "    return prod"
   ]
  },
  {
   "cell_type": "code",
   "execution_count": 35,
   "id": "429cd60a-ad36-449e-ab82-6aaa927a040a",
   "metadata": {},
   "outputs": [
    {
     "name": "stdout",
     "output_type": "stream",
     "text": [
      "r$dzmg$gl$yvxlnv$z$wzgz$hxrvmgrhg.\n"
     ]
    }
   ],
   "source": [
    "#q2\n",
    "def encryp_msg(msg):\n",
    "    op=''\n",
    "    for i in msg.lower():\n",
    "        if i==' ':\n",
    "            op+='$'\n",
    "        elif i.isalpha():\n",
    "            op+=chr(219-ord(i))\n",
    "        else:\n",
    "            op+=i\n",
    "    return op\n",
    "ip=\"I want to become a Data Scientist.\"\n",
    "encry_op=encryp_msg(ip)\n",
    "print(encry_op)\n",
    "            \n",
    "        \n",
    "\n"
   ]
  },
  {
   "cell_type": "code",
   "execution_count": 28,
   "id": "9ef1eed5-bb9e-4ba3-80d5-c43b404ce23b",
   "metadata": {},
   "outputs": [
    {
     "name": "stdout",
     "output_type": "stream",
     "text": [
      "122\n"
     ]
    }
   ],
   "source": [
    "print(ord('z'))"
   ]
  }
 ],
 "metadata": {
  "kernelspec": {
   "display_name": "Python 3 (ipykernel)",
   "language": "python",
   "name": "python3"
  },
  "language_info": {
   "codemirror_mode": {
    "name": "ipython",
    "version": 3
   },
   "file_extension": ".py",
   "mimetype": "text/x-python",
   "name": "python",
   "nbconvert_exporter": "python",
   "pygments_lexer": "ipython3",
   "version": "3.10.8"
  }
 },
 "nbformat": 4,
 "nbformat_minor": 5
}
