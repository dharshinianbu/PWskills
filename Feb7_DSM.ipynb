{
 "cells": [
  {
   "cell_type": "markdown",
   "id": "1568e65a-892e-4305-a416-90856685e2f7",
   "metadata": {},
   "source": [
    "Q1. You are writing code for a company. The requirement of the company is that you create a python\n",
    "function that will check whether the password entered by the user is correct or not. The function should\n",
    "take the password as input and return the string “Valid Password” if the entered password follows the\n",
    "below-given password guidelines else it should return “Invalid Password”.\n",
    "Note: 1. The Password should contain at least two uppercase letters and at least two lowercase letters.\n",
    "2. The Password should contain at least a number and three special characters.\n",
    "3. The length of the password should be 10 characters long."
   ]
  },
  {
   "cell_type": "code",
   "execution_count": 5,
   "id": "889d20ba-32e1-4cdc-8c53-91eb9931c6ad",
   "metadata": {},
   "outputs": [],
   "source": [
    "import re\n",
    "def validate_pwd(pwd):\n",
    "    if len(pwd)!=10:\n",
    "        return \"Invalid Password\"\n",
    "    if len((re.findall(r'[A-Z]',pwd)))<2:\n",
    "        return \"Invalid Password\"\n",
    "    if len(re.findall(r'[a-z]',pwd))<2:\n",
    "        return \"Invalid Password\"\n",
    "    if len(re.findall(r'[0-9]',pwd))<2:\n",
    "        return \"Invalid Password\"\n",
    "    if len(re.findall(r'[!@#$%^&*()-_+=~`{}[]\\\\|:;\"\\'<>,.?/]', password)) < 3:\n",
    "        return \"Invalid Password\"\n",
    "    return \"Valid Password\""
   ]
  },
  {
   "cell_type": "code",
   "execution_count": 9,
   "id": "a6c5d466-1c6c-46db-9826-c12fc922a2a1",
   "metadata": {},
   "outputs": [
    {
     "name": "stdout",
     "output_type": "stream",
     "text": [
      "Invalid Password\n"
     ]
    }
   ],
   "source": [
    "ip=\"Abcd123#$%\"\n",
    "op=validate_pwd(ip)\n",
    "print(op)"
   ]
  },
  {
   "cell_type": "markdown",
   "id": "9064127b-3552-40b3-bc6c-9eff391b6437",
   "metadata": {},
   "source": [
    "Q2. Solve the below-given questions using at least one of the following:\n",
    "1. Lambda functioJ\n",
    "2. Filter functioJ\n",
    "3. Map functioJ\n",
    "4. List ComprehensioI\n",
    "B Check if the string starts with a particular letterY\n",
    "B Check if the string is numericY\n",
    "B Sort a list of tuples having fruit names and their quantity. [(\"mango\",99),(\"orange\",80), (\"grapes\", 1000)-\n",
    "B Find the squares of numbers from 1 to 10Y\n",
    "B Find the cube root of numbers from 1 to 10Y\n",
    "B Check if a given number is evenY\n",
    "B Filter odd numbers from the given list.\n",
    "[1,2,3,4,5,6,7,8,9,10-\n",
    "B Sort a list of integers into positive and negative integers lists.\n",
    "[1,2,3,4,5,6,-1,-2,-3,-4,-5,0]"
   ]
  },
  {
   "cell_type": "code",
   "execution_count": 11,
   "id": "f02eaafe-73e5-418b-a018-05ada4272841",
   "metadata": {},
   "outputs": [
    {
     "name": "stdout",
     "output_type": "stream",
     "text": [
      "True\n"
     ]
    }
   ],
   "source": [
    "#Check if the string starts with a particular letter\n",
    "starts_with=lambda x, y: x.startswith(y)\n",
    "x=\"helloworld\"\n",
    "y=\"h\"\n",
    "print(starts_with(x,y))"
   ]
  },
  {
   "cell_type": "code",
   "execution_count": 17,
   "id": "65989cb8-65b4-4494-86d8-9f803355ca25",
   "metadata": {},
   "outputs": [
    {
     "name": "stdout",
     "output_type": "stream",
     "text": [
      "True\n",
      "False\n"
     ]
    }
   ],
   "source": [
    "# Check if the string is numeric\n",
    "num_check=lambda x: x.isnumeric()\n",
    "string1 = \"1234\"\n",
    "string2 = \"abc123\"\n",
    "print(num_check(string1))  \n",
    "print(num_check(string2)) "
   ]
  },
  {
   "cell_type": "code",
   "execution_count": 20,
   "id": "bfdae69d-b34d-47d7-8186-9b14f3282040",
   "metadata": {},
   "outputs": [
    {
     "name": "stdout",
     "output_type": "stream",
     "text": [
      "[('orange', 80), ('mango', 99), ('grapes', 1000)]\n"
     ]
    }
   ],
   "source": [
    "#Sort a list of tuples having fruit names and their quantity. [(\"mango\",99),(\"orange\",80), (\"grapes\", 1000)]\n",
    "t=[(\"mango\",99),(\"orange\",80), (\"grapes\", 1000)]\n",
    "sorted_fruits = sorted(t, key=lambda x: x[1])\n",
    "\n",
    "print(sorted_fruits)"
   ]
  },
  {
   "cell_type": "code",
   "execution_count": 21,
   "id": "2425072f-fc33-4e68-8b7d-f65095fb6bb0",
   "metadata": {},
   "outputs": [
    {
     "name": "stdout",
     "output_type": "stream",
     "text": [
      "[1, 4, 9, 16, 25, 36, 49, 64, 81, 100]\n"
     ]
    }
   ],
   "source": [
    " #Find the squares of numbers from 1 to 10\n",
    "numbers = [1, 2, 3, 4, 5, 6, 7, 8, 9, 10]\n",
    "sq=list(map(lambda x: x**2,numbers))\n",
    "print(sq) "
   ]
  },
  {
   "cell_type": "code",
   "execution_count": 22,
   "id": "3ba3e532-c977-4ce2-9757-6e3eb7e31a6b",
   "metadata": {},
   "outputs": [
    {
     "name": "stdout",
     "output_type": "stream",
     "text": [
      "[1.0, 1.2599210498948732, 1.4422495703074083, 1.5874010519681994, 1.7099759466766968, 1.8171205928321397, 1.912931182772389, 2.0, 2.080083823051904, 2.154434690031884]\n"
     ]
    }
   ],
   "source": [
    " #Find the cube roots of numbers from 1 to 10\n",
    "numbers = [1, 2, 3, 4, 5, 6, 7, 8, 9, 10]\n",
    "cuberoots=list(map(lambda x: pow(x,1/3),numbers))\n",
    "print(cuberoots)"
   ]
  },
  {
   "cell_type": "code",
   "execution_count": 34,
   "id": "59e07dad-0f20-48c7-b992-be48b4a70836",
   "metadata": {},
   "outputs": [
    {
     "name": "stdout",
     "output_type": "stream",
     "text": [
      "True\n"
     ]
    }
   ],
   "source": [
    "#Check if a given number is even\n",
    "x=5\n",
    "is_even = lambda x: x % 2 == 0\n",
    "print(bool(is_even))"
   ]
  },
  {
   "cell_type": "code",
   "execution_count": 36,
   "id": "0d08b627-31c7-482b-989a-2e6bb5c6adec",
   "metadata": {},
   "outputs": [
    {
     "name": "stdout",
     "output_type": "stream",
     "text": [
      "[1, 3, 5, 7, 9]\n"
     ]
    }
   ],
   "source": [
    "#Filter odd numbers from the given list.\n",
    "lst = [1, 2, 3, 4, 5, 6, 7, 8, 9, 10]\n",
    "result = list(filter(lambda x: x % 2 != 0, lst))\n",
    "print(result)"
   ]
  },
  {
   "cell_type": "code",
   "execution_count": null,
   "id": "186204d2-096d-47f6-85d9-c418eb352b25",
   "metadata": {},
   "outputs": [],
   "source": [
    "# Sort a list of integers into positive and negative integers lists.\n",
    "\n"
   ]
  },
  {
   "cell_type": "code",
   "execution_count": null,
   "id": "28c637d4-668d-4473-81b2-2c81b215a983",
   "metadata": {},
   "outputs": [],
   "source": []
  }
 ],
 "metadata": {
  "kernelspec": {
   "display_name": "Python 3 (ipykernel)",
   "language": "python",
   "name": "python3"
  },
  "language_info": {
   "codemirror_mode": {
    "name": "ipython",
    "version": 3
   },
   "file_extension": ".py",
   "mimetype": "text/x-python",
   "name": "python",
   "nbconvert_exporter": "python",
   "pygments_lexer": "ipython3",
   "version": "3.10.8"
  }
 },
 "nbformat": 4,
 "nbformat_minor": 5
}
