{
 "cells": [
  {
   "cell_type": "markdown",
   "id": "c7a602d0-c8dc-4c50-ba11-1f8fc8cacfe6",
   "metadata": {},
   "source": [
    "Q1, Create a vehicle class with an init method having instance variables as name_of_vehicle, max_speed\n",
    "and average_of_vehicle.\n",
    "Q2. Create a child class car from the vehicle class created in Que 1, which will inherit the vehicle class.\n",
    "Create a method named seating_capacity which takes capacity as an argument and returns the name of\n",
    "the vehicle and its seating capacity.\n",
    "Q3. What is multiple inheritance? Write a python code to demonstrate multiple inheritance.\n",
    "Q4. What are getter and setter in python? Create a class and create a getter and a setter method in this\n",
    "class.\n",
    "Q5.What is method overriding in python? Write a python code to demonstrate method overriding."
   ]
  },
  {
   "cell_type": "markdown",
   "id": "5ec26632-b932-407f-84a7-f8eba1992721",
   "metadata": {
    "jp-MarkdownHeadingCollapsed": true,
    "tags": []
   },
   "source": [
    "#q3\n",
    "Multiple inheritance is a feature of some object-oriented computer programming languages in \n",
    "which an object or class can inherit characteristics and features from more than one parent object or the parent class .\n",
    "# Multiple Inheritance using two classes:\n",
    "\n",
    "class Father():\n",
    "    def Driving(self):\n",
    "        print(\"Father Enjoys Driving\")\n",
    "class Mother():\n",
    "    def Cooking(self):\n",
    "        print(\"Mother Enjoys Cooking\")\n",
    "class Child(Father, Mother):\n",
    "    def Playing(self):\n",
    "        print(\"Child Loves Playing\")\n",
    "c = Child()\n",
    "c.Driving()\n",
    "c.Cooking()\n",
    "c.Playing()"
   ]
  },
  {
   "cell_type": "markdown",
   "id": "de3ee114-832d-4931-851f-007f60acb536",
   "metadata": {},
   "source": [
    "#q4\n",
    "Getter: A method that allows you to access an attribute in a given class\n",
    "Setter: A method that allows you to set or mutate the value of an attribute in a class\n",
    "# employee.py\n",
    "\n",
    "from datetime import date\n",
    "\n",
    "class Employee:\n",
    "    def __init__(self, name, birth_date):\n",
    "        self.name = name\n",
    "        self.birth_date = birth_date\n",
    "\n",
    "    @property\n",
    "    def name(self):\n",
    "        return self._name\n",
    "\n",
    "    @name.setter\n",
    "    def name(self, value):\n",
    "        self._name = value.upper()\n",
    "\n",
    "    @property\n",
    "    def birth_date(self):\n",
    "        return self._birth_date\n",
    "\n",
    "    @birth_date.setter\n",
    "    def birth_date(self, value):\n",
    "        self._birth_date = date.fromisoformat(value)"
   ]
  },
  {
   "cell_type": "markdown",
   "id": "d6bdc659-37f8-4c72-a73b-c82202ac57af",
   "metadata": {},
   "source": [
    "#q5\n",
    "Method overriding in Python is the ability to redefine a method in a subclass that is already defined in its superclass, with the same name and signature.\n",
    "\n",
    "class Animal:\n",
    "    def make_sound(self):\n",
    "        print(\"The animal makes a sound.\")\n",
    "\n",
    "class Cat(Animal):\n",
    "    def make_sound(self):\n",
    "        print(\"Meow\")\n",
    "\n",
    "animal = Animal()\n",
    "animal.make_sound() # Output: \"The animal makes a sound.\"\n",
    "\n",
    "cat = Cat()\n",
    "cat.make_sound() # Output: \"Meow\"\n"
   ]
  },
  {
   "cell_type": "markdown",
   "id": "b870a5f5-c085-49d3-8518-6ac1b14048f9",
   "metadata": {},
   "source": [
    "#Q1 create a Car class that inherits from the Vehicle class and implements a seating_capacity method:\n",
    "class Vehicle:\n",
    "    def __init__(self, name, max_speed, mileage):\n",
    "        self.name = name\n",
    "        self.max_speed = max_speed\n",
    "        self.mileage = mileage\n",
    "\n",
    "class Car(Vehicle):\n",
    "    def seating_capacity(self, capacity):\n",
    "        return f\"{self.name} has a seating capacity of {capacity} passengers.\"\n",
    "\n",
    "my_car = Car(\"Toyota\", 180, 25)\n",
    "print(my_car.seating_capacity(5)) # Output: \"Toyota has a seating capacity of 5 passengers.\"\n"
   ]
  },
  {
   "cell_type": "markdown",
   "id": "d1ceb9ae-d49d-48fd-a013-567a07174574",
   "metadata": {},
   "source": [
    "#q2\n",
    "class Car(Vehicle):\n",
    "    def seating_capacity(self, capacity):\n",
    "        return f\"{self.name} has a seating capacity of {capacity} passengers.\"\n",
    "Car class inherits from the Vehicle class. The seating_capacity method takes a capacity argument and returns a string that includes\n",
    "the name of the vehicle and its seating capacity. You can customize this method as per your requirements."
   ]
  }
 ],
 "metadata": {
  "kernelspec": {
   "display_name": "Python 3 (ipykernel)",
   "language": "python",
   "name": "python3"
  },
  "language_info": {
   "codemirror_mode": {
    "name": "ipython",
    "version": 3
   },
   "file_extension": ".py",
   "mimetype": "text/x-python",
   "name": "python",
   "nbconvert_exporter": "python",
   "pygments_lexer": "ipython3",
   "version": "3.10.8"
  }
 },
 "nbformat": 4,
 "nbformat_minor": 5
}
