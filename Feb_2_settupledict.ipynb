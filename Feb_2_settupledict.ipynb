{
 "cells": [
  {
   "cell_type": "markdown",
   "id": "c7f8c5ba-5d72-495b-b4e7-7202413ea9f3",
   "metadata": {},
   "source": [
    "###1.Tuples are an ordered, immutable collection of elements that can hold values of different data types. They are defined using parentheses ( ) and separated by commas. Some of the characteristics of tuples include:\n",
    "\n",
    "Immutable: Once a tuple is created, its elements cannot be modified, added, or removed. This makes tuples more secure and efficient compared to other data structures like lists.\n",
    "\n",
    "Ordered: The elements in a tuple are ordered, meaning that their position is significant and can be used to access and reference specific values.\n",
    "\n",
    "Heterogeneous: Tuples can hold elements of different data types, allowing for greater flexibility and versatility in storing data.\n",
    "\n",
    "Hashable: Tuples can be used as keys in dictionaries because they are hashable, which means they have a hash value that is used to compare and identify them.\n",
    "\n",
    "Overall, tuples are a useful and efficient data structure for situations where you need to store a fixed number of related values.###"
   ]
  },
  {
   "cell_type": "markdown",
   "id": "5f493ba9-51d1-4d14-9559-b4e688693654",
   "metadata": {},
   "source": [
    "###2.Tuples in Python have two in-built methods:\n",
    "1.count(): The count method returns the number of times a specific value appears in the tuple.\n",
    "2.index(): The index method returns the index of the first occurrence of a specific value in the tuple.###"
   ]
  },
  {
   "cell_type": "code",
   "execution_count": 1,
   "id": "50b337da-1838-4f60-a667-dfb00596916c",
   "metadata": {},
   "outputs": [
    {
     "name": "stdout",
     "output_type": "stream",
     "text": [
      "2\n"
     ]
    }
   ],
   "source": [
    "#eg 1\n",
    "num=(1,2,3,4,5,4)\n",
    "print(num.count(4))"
   ]
  },
  {
   "cell_type": "code",
   "execution_count": 2,
   "id": "c2853244-ffab-4bd4-9b52-dc1a02869b59",
   "metadata": {},
   "outputs": [
    {
     "name": "stdout",
     "output_type": "stream",
     "text": [
      "1\n"
     ]
    }
   ],
   "source": [
    "#eg2\n",
    "num=(1,2,3,3,4,5)\n",
    "print(num.index(2))"
   ]
  },
  {
   "cell_type": "markdown",
   "id": "2ab312a5-d8a1-4894-b2b2-e5faaa281d66",
   "metadata": {},
   "source": [
    "###Q3. Which collection datatypes in python do not allow duplicate items? Write a code using a set to remove\n",
    "duplicates from the given list.\n",
    "List = [1, 1, 1, 2, 1, 3, 1, 4, 2, 1, 2, 2, 2, 3, 2, 4, 3, 1, 3, 2, 3, 3, 3, 4, 4, 1, 4, 2, 4, 3, 4, 4]###"
   ]
  },
  {
   "cell_type": "code",
   "execution_count": 3,
   "id": "fb3e3fdc-8e4e-4307-8ae2-615c313711f4",
   "metadata": {},
   "outputs": [
    {
     "name": "stdout",
     "output_type": "stream",
     "text": [
      "{1, 2, 3, 4} <class 'set'>\n"
     ]
    }
   ],
   "source": [
    "List = [1, 1, 1, 2, 1, 3, 1, 4, 2, 1, 2, 2, 2, 3, 2, 4, 3, 1, 3, 2, 3, 3, 3, 4, 4, 1, 4, 2, 4, 3, 4, 4]\n",
    "s=set(List)\n",
    "print(s,type(s))"
   ]
  },
  {
   "cell_type": "code",
   "execution_count": 6,
   "id": "9774d90f-7016-4491-8d72-cb3c8544dbe3",
   "metadata": {},
   "outputs": [
    {
     "name": "stdout",
     "output_type": "stream",
     "text": [
      "{1, 2, 3, 4, 5}\n",
      "{1, 2, 3, 4, 5}\n",
      "None\n",
      "None\n"
     ]
    }
   ],
   "source": [
    "#Q4. Explain the difference between the union() and update() methods for a set. Give an example of each method.\n",
    "#difference between the union and update methods is that the union method returns a new set, while the update method modifies the original set.\n",
    "s1={1,2,4}\n",
    "s2={3,4,5}\n",
    "print(s1.union(s2))\n",
    "print(s2.union(s1))\n",
    "print(s1.update(s2))#this is a action so wont print anything\n",
    "print(s2.update(s1))"
   ]
  },
  {
   "cell_type": "code",
   "execution_count": 12,
   "id": "30954478-fed7-477f-b03b-81278ca47549",
   "metadata": {},
   "outputs": [
    {
     "name": "stdout",
     "output_type": "stream",
     "text": [
      "{1, 2, 3, 4, 5}\n",
      "{1, 2, 3, 4, 5}\n"
     ]
    }
   ],
   "source": [
    "s1={1,2,4}\n",
    "s2={3,4,5}\n",
    "s1.update(s2)\n",
    "print(s1)\n",
    "s2.update(s1)\n",
    "print(s2)"
   ]
  },
  {
   "cell_type": "code",
   "execution_count": 14,
   "id": "c85724fc-ef9f-4dd7-bbd8-8f460d67446a",
   "metadata": {},
   "outputs": [
    {
     "name": "stdout",
     "output_type": "stream",
     "text": [
      "{'a': 1, 'b': 2, 'c': 3}\n"
     ]
    }
   ],
   "source": [
    "#q4.A dictionary in Python is an unordered collection of key-value pairs, where each key is unique and maps to a specific value. Dictionaries are defined using curly braces { } and are separated by commas.\n",
    "d={'a':1,'b':2,'c':3}\n",
    "print(d)"
   ]
  },
  {
   "cell_type": "code",
   "execution_count": 16,
   "id": "65ae72e9-4190-447d-a13c-8a3cff17eb91",
   "metadata": {},
   "outputs": [
    {
     "name": "stdout",
     "output_type": "stream",
     "text": [
      "{'abc': {'cde': 234}, 'b': 56}\n"
     ]
    }
   ],
   "source": [
    "#q5 nested dict\n",
    "nestdic={'abc':{'cde':234},'b':56}\n",
    "print(nestdic)\n"
   ]
  },
  {
   "cell_type": "code",
   "execution_count": 19,
   "id": "e55b62a1-9377-4d36-b88d-d25eb70d448b",
   "metadata": {},
   "outputs": [
    {
     "name": "stdout",
     "output_type": "stream",
     "text": [
      "{'a': 1, 'b': 2, 'c': 3, 'd': [4, 3]}\n"
     ]
    }
   ],
   "source": [
    "#q6\n",
    "d={'a':1,'b':2,'c':3}\n",
    "d.setdefault('d',[4,3])\n",
    "print(d)"
   ]
  },
  {
   "cell_type": "code",
   "execution_count": 26,
   "id": "354c6fc2-243b-4cd9-83a8-fce0be099fae",
   "metadata": {},
   "outputs": [
    {
     "name": "stdout",
     "output_type": "stream",
     "text": [
      "dict_keys(['a', 'b', 'c', 'd'])\n",
      "dict_values([1, 2, 3, [4, 3]])\n",
      "dict_items([('a', 1), ('b', 2), ('c', 3), ('d', [4, 3])])\n"
     ]
    }
   ],
   "source": [
    "#q7 i) keys() ii) values() iii) items()\n",
    "d={'a': 1, 'b': 2, 'c': 3, 'd': [4, 3]}\n",
    "print(d.keys())\n",
    "print(d.values())\n",
    "print(d.items())"
   ]
  },
  {
   "cell_type": "code",
   "execution_count": null,
   "id": "8594dfe7-0e7b-40a6-9f99-ddf4a4ae77b1",
   "metadata": {},
   "outputs": [],
   "source": []
  }
 ],
 "metadata": {
  "kernelspec": {
   "display_name": "Python 3 (ipykernel)",
   "language": "python",
   "name": "python3"
  },
  "language_info": {
   "codemirror_mode": {
    "name": "ipython",
    "version": 3
   },
   "file_extension": ".py",
   "mimetype": "text/x-python",
   "name": "python",
   "nbconvert_exporter": "python",
   "pygments_lexer": "ipython3",
   "version": "3.10.8"
  }
 },
 "nbformat": 4,
 "nbformat_minor": 5
}
