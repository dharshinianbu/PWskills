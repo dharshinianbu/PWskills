{
 "cells": [
  {
   "cell_type": "markdown",
   "id": "2c327d32-91c7-49b2-9d5d-4d2ea46556c5",
   "metadata": {},
   "source": [
    "1. python programming is developed by Guido van Rossum\n",
    "\n",
    "2. Type of programming python support is imperative, functional, procedural, and object-oriented.\n",
    "\n",
    "3. python is case sensitive when dealing with identifiers,  it treats uppercase and lowercase characters differently. This applies to identifiers too.\n",
    "\n",
    "4. Extension of python file is .py\n",
    "\n",
    "5. Python is an interpreted language, which means the source code of a Python program is converted into bytecode that is then executed by the Python virtual machine. \n",
    "\n",
    "6. Indentation is used to define a block of code in python.\n",
    "    a=int(input())\n",
    "    if(a)==1:\n",
    "        print('yes')\n",
    "    else:\n",
    "        print('no')\n",
    "\n",
    "7. single line of comment is by giving #\n",
    "\n",
    "8. Python supports to make anonymous functions which are not bound to a name(@ runtime). It uses a construct called \"lambda\".\n",
    "\n",
    "9. The sys module in Python to get the current version of Python. \n",
    "import sys\n",
    "\n",
    "def python_version():\n",
    "    return sys.version\n",
    "    \n",
    "10. pip stands for \"preferred installer program\"\n",
    "\n",
    "11. Few Python Built-in Functions\n",
    "print( ) function.\n",
    "type( ) function.\n",
    "input( ) function.\n",
    "abs( ) function.\n",
    "pow( ) function.\n",
    "dir( ) function.\n",
    "sorted( ) function.\n",
    "max( ) function.\n",
    "\n",
    "12. An identifier can have a maximum length of 79 characters in Python.\n",
    "\n",
    "13. Benefits of python:\n",
    "    Free and Open-Source, Simple to Use and Understand, Interpreted Language (show error line by line), Dynamically Typed(allocate datatype automatically), its usagein Data Science.\n",
    "    \n",
    "14. Memory management in Python involves a private heap containing all Python objects and data structures. The management of this private heap is ensured internally by the Python memory manager.\n",
    "\n",
    "15. Go to the official Python website at https://www.python.org/downloads/ and download the latest version of Python for Windows. After installing, open the Command Prompt and type python to check if Python is installed and working properly. If Python is installed correctly, you should see the Python version information displayed or it will be in C: drive.\n",
    "\n",
    "16. Yes, Indentation  required in python.\n"
   ]
  }
 ],
 "metadata": {
  "kernelspec": {
   "display_name": "Python 3 (ipykernel)",
   "language": "python",
   "name": "python3"
  },
  "language_info": {
   "codemirror_mode": {
    "name": "ipython",
    "version": 3
   },
   "file_extension": ".py",
   "mimetype": "text/x-python",
   "name": "python",
   "nbconvert_exporter": "python",
   "pygments_lexer": "ipython3",
   "version": "3.10.8"
  }
 },
 "nbformat": 4,
 "nbformat_minor": 5
}
